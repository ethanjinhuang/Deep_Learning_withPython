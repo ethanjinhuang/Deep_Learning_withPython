{
 "cells": [
  {
   "cell_type": "markdown",
   "metadata": {},
   "source": [
    "# 神经网络的数学基础\n",
    "通过解决MNIST问题来入门Keras库\n",
    "\n",
    "下面将分为几个步骤来进行这一实例的验证\n",
    "1. 加载Keras中的MNIST数据集\n",
    "2. 网络架构\n",
    "3. 编译步骤\n",
    "4. 准备图像数据\n",
    "5. 准备标签"
   ]
  },
  {
   "cell_type": "code",
   "execution_count": 1,
   "metadata": {
    "ExecuteTime": {
     "end_time": "2021-03-23T13:53:43.254409Z",
     "start_time": "2021-03-23T13:53:41.107880Z"
    }
   },
   "outputs": [
    {
     "name": "stdout",
     "output_type": "stream",
     "text": [
      "(60000, 28, 28)\n",
      "10000\n",
      "(10000, 28, 28)\n",
      "10000\n"
     ]
    }
   ],
   "source": [
    "# 导入数据\n",
    "\n",
    "from keras.datasets import mnist\n",
    "\n",
    "(train_images, train_labels),(test_images, test_labels) = mnist.load_data()\n",
    "\n",
    "# (train_images, train_labels) 训练集\n",
    "# (test_images, test_labels) 测试集\n",
    "\n",
    "# 显示两个数据集的情况\n",
    "print(train_images.shape)\n",
    "print(len(test_labels))\n",
    "print(test_images.shape)\n",
    "print(len(test_labels))\n"
   ]
  },
  {
   "cell_type": "code",
   "execution_count": 2,
   "metadata": {
    "ExecuteTime": {
     "end_time": "2021-03-23T13:53:43.980614Z",
     "start_time": "2021-03-23T13:53:43.255406Z"
    }
   },
   "outputs": [],
   "source": [
    "# 进行网络构建\n",
    "\n",
    "from keras import models\n",
    "from keras import layers\n",
    "\n",
    "# 选择构建模型方法，目前有两种：1. Sequential models；2.Functional API\n",
    "network = models.Sequential() \n",
    "# Sequential模型字面上的翻译是顺序模型，给人的第一感觉是那种简单的线性模型，\n",
    "# 但实际上Sequential模型可以构建非常复杂的神经网络，\n",
    "# 包括全连接神经网络、卷积神经网络(CNN)、循环神经网络(RNN)等等。\n",
    "# 这里的Sequential更准确的应该理解为堆叠，通过堆叠许多层，构建出深度神经网络。\n",
    "\n",
    "network.add(layers.Dense(512, activation='relu', input_shape=(28*28,)))\n",
    "\n",
    "network.add(layers.Dense(10, activation='softmax'))\n"
   ]
  },
  {
   "cell_type": "markdown",
   "metadata": {},
   "source": [
    "目前，大多数深度学习都是**将简单的层链接起来**，从而实现**渐进式的数据蒸馏**。\n",
    "实例中包含2个Dense层，首先构建第一个Dense层\n",
    "```python\n",
    "network.add(layers.Dense(512, activation='relu', input_shape=(28*28,)))\n",
    "```\n",
    "其后构建第二个，也就是最后一层，是一个10输出的softmax层，其将返回一个由10个概率值（总和为1）组成的数组，每个概率值对应图像属于10个数字中某一个的概率\n",
    "```python\n",
    "network.add(layers.Dense(10, activation='softmax'))\n",
    "```"
   ]
  },
  {
   "cell_type": "markdown",
   "metadata": {},
   "source": [
    "To make our network ready for training, we need to pick three more things, as part of **\"compilation\"** step:\n",
    "\n",
    "- **A loss function**损失函数: the is how the network will be able to <span class=\"mark\">measure how good a job it is doing on its training data</span>, and thus <span class=\"mark\">how it will be able to steer itself in the right direction</span>.\n",
    "- **An optimizer**优化器: this is the mechanism through which the network will update itself based on the data it sees and its loss function.\n",
    "- **Metrics to monitor during training and testing**在训练和测试过程中需要监控的指标. Here we will only care about accuracy (the fraction of the images that were correctly classified).\n",
    "\n"
   ]
  },
  {
   "cell_type": "code",
   "execution_count": 3,
   "metadata": {
    "ExecuteTime": {
     "end_time": "2021-03-23T13:53:43.996627Z",
     "start_time": "2021-03-23T13:53:43.982611Z"
    }
   },
   "outputs": [],
   "source": [
    "# 编译步骤， \n",
    "network.compile(optimizer='rmsprop',loss='categorical_crossentropy',metrics=['accuracy'])"
   ]
  },
  {
   "cell_type": "code",
   "execution_count": 4,
   "metadata": {
    "ExecuteTime": {
     "end_time": "2021-03-23T13:53:44.138161Z",
     "start_time": "2021-03-23T13:53:43.998535Z"
    }
   },
   "outputs": [],
   "source": [
    "# 数据预处理及标签处理\n",
    "\n",
    "# 准备图像数据\n",
    "# 将数据变换为网络需要的形状，并将其变换为网络需要的形状，并缩放到所有值都在[0,1]区间\n",
    "\n",
    "train_images = train_images.reshape((60000, 28*28))\n",
    "train_images = train_images.astype('float32')/255\n",
    "\n",
    "test_images = test_images.reshape((10000, 28*28))\n",
    "test_images = test_images.astype('float32')/255\n",
    "\n",
    "\n",
    "# 准备标签进行处理\n",
    "from keras.utils import to_categorical\n",
    "\n",
    "train_labels = to_categorical(train_labels)\n",
    "test_labels = to_categorical(test_labels)\n"
   ]
  },
  {
   "cell_type": "code",
   "execution_count": 5,
   "metadata": {
    "ExecuteTime": {
     "end_time": "2021-03-23T13:53:50.953780Z",
     "start_time": "2021-03-23T13:53:44.139158Z"
    }
   },
   "outputs": [
    {
     "name": "stdout",
     "output_type": "stream",
     "text": [
      "Epoch 1/5\n",
      "469/469 [==============================] - 2s 2ms/step - loss: 0.4300 - accuracy: 0.8734\n",
      "Epoch 2/5\n",
      "469/469 [==============================] - 1s 2ms/step - loss: 0.1147 - accuracy: 0.9660\n",
      "Epoch 3/5\n",
      "469/469 [==============================] - 1s 2ms/step - loss: 0.0664 - accuracy: 0.9802\n",
      "Epoch 4/5\n",
      "469/469 [==============================] - 1s 2ms/step - loss: 0.0467 - accuracy: 0.9862\n",
      "Epoch 5/5\n",
      "469/469 [==============================] - 1s 2ms/step - loss: 0.0361 - accuracy: 0.9898\n",
      "313/313 [==============================] - 1s 1ms/step - loss: 0.0618 - accuracy: 0.9807\n",
      "test_acc 0.9807000160217285\n"
     ]
    }
   ],
   "source": [
    "# 进行训练网络，在Keras调用网络的fit方法完成\n",
    "\n",
    "network.fit(train_images, train_labels, epochs=5, batch_size=128)\n",
    "\n",
    "# 验证模型在测试集上的性能\n",
    "\n",
    "test_loss, test_acc = network.evaluate(test_images,test_labels)\n",
    "print('test_acc',test_acc)"
   ]
  },
  {
   "cell_type": "markdown",
   "metadata": {},
   "source": []
  },
  {
   "cell_type": "code",
   "execution_count": null,
   "metadata": {},
   "outputs": [],
   "source": []
  }
 ],
 "metadata": {
  "kernelspec": {
   "display_name": "Python 3",
   "language": "python",
   "name": "python3"
  },
  "language_info": {
   "codemirror_mode": {
    "name": "ipython",
    "version": 3
   },
   "file_extension": ".py",
   "mimetype": "text/x-python",
   "name": "python",
   "nbconvert_exporter": "python",
   "pygments_lexer": "ipython3",
   "version": "3.7.9"
  },
  "toc": {
   "base_numbering": 1,
   "nav_menu": {},
   "number_sections": true,
   "sideBar": true,
   "skip_h1_title": false,
   "title_cell": "Table of Contents",
   "title_sidebar": "Contents",
   "toc_cell": false,
   "toc_position": {},
   "toc_section_display": true,
   "toc_window_display": false
  },
  "varInspector": {
   "cols": {
    "lenName": 16,
    "lenType": 16,
    "lenVar": 40
   },
   "kernels_config": {
    "python": {
     "delete_cmd_postfix": "",
     "delete_cmd_prefix": "del ",
     "library": "var_list.py",
     "varRefreshCmd": "print(var_dic_list())"
    },
    "r": {
     "delete_cmd_postfix": ") ",
     "delete_cmd_prefix": "rm(",
     "library": "var_list.r",
     "varRefreshCmd": "cat(var_dic_list()) "
    }
   },
   "types_to_exclude": [
    "module",
    "function",
    "builtin_function_or_method",
    "instance",
    "_Feature"
   ],
   "window_display": false
  }
 },
 "nbformat": 4,
 "nbformat_minor": 4
}
